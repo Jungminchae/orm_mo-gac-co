{
 "cells": [
  {
   "cell_type": "markdown",
   "metadata": {},
   "source": [
    "# Algorithm Basic 100\n",
    "[링크](https://100.pyalgo.co.kr/?page=20#)\n",
    "\n",
    "## Q20. 타입 확인\n",
    "\n",
    "### 문제\n",
    " * 여러 클래스의 이름과 이 이름의 인스턴스가 주어집니다. 각 인스턴스가 특정 클래스의 인스턴스인지 확인하는 코드를 작성해주세요.\n",
    "### 제한사항\n",
    " * 클래스는 파이썬의 기본 데이터 타입입니다.\n",
    " * 안에 클래스와 인스턴스 매칭이 모두 올바른 경우 True를 그 외의 경우에는 False를 반환해주세요.\n",
    " * isinstance와 issubclass함수를 사용하진 않습니다."
   ]
  },
  {
   "cell_type": "code",
   "execution_count": 11,
   "metadata": {},
   "outputs": [],
   "source": [
    "# solution 1\n",
    "## isinstance 사용 \n",
    "\n",
    "def solution(data) : \n",
    "    for class_nm , instance in data : \n",
    "        # 문자열에 주어진 클래스 이름을 실제 객체로 변환\n",
    "        class_type = eval(class_nm)\n",
    "    \n",
    "        # 동일한지 확인\n",
    "        if not isinstance(instance , class_type) :\n",
    "            return False\n",
    "    return True\n"
   ]
  },
  {
   "cell_type": "code",
   "execution_count": 12,
   "metadata": {},
   "outputs": [],
   "source": [
    "# solution 2 \n",
    "## 실제 타입을 바로 들고오기 \n",
    "## eval을 사용하지 않아 보안문제를 피할 수 있음\n",
    "\n",
    "def solution(data) : \n",
    "    for exp_type_nm , instance in data : \n",
    "        # 실제 타입 이름을 문자열로 반환\n",
    "        actual_type_nm = type(instance).__name__\n",
    "        \n",
    "        # 예상한 타입 이름(exp_type_nm)과 실제 타입 이름(actual_type_nm)을 비교\n",
    "        if exp_type_nm != actual_type_nm : \n",
    "            return False\n",
    "    return True"
   ]
  },
  {
   "cell_type": "code",
   "execution_count": 9,
   "metadata": {},
   "outputs": [],
   "source": [
    "# solution 2\n",
    "## \n",
    "def solution(data) : \n",
    "    type_list = []\n",
    "    for i in data : \n",
    "        if not isinstance(i[0], type(i[1]).__name__) :\n",
    "            return False\n",
    "    return True"
   ]
  },
  {
   "cell_type": "code",
   "execution_count": 10,
   "metadata": {},
   "outputs": [
    {
     "ename": "TypeError",
     "evalue": "isinstance() arg 2 must be a type, a tuple of types, or a union",
     "output_type": "error",
     "traceback": [
      "\u001b[1;31m---------------------------------------------------------------------------\u001b[0m",
      "\u001b[1;31mTypeError\u001b[0m                                 Traceback (most recent call last)",
      "Cell \u001b[1;32mIn[10], line 4\u001b[0m\n\u001b[0;32m      1\u001b[0m \u001b[38;5;66;03m#test \u001b[39;00m\n\u001b[0;32m      2\u001b[0m test1 \u001b[38;5;241m=\u001b[39m [(\u001b[38;5;124m'\u001b[39m\u001b[38;5;124mlist\u001b[39m\u001b[38;5;124m'\u001b[39m, [\u001b[38;5;241m1\u001b[39m, \u001b[38;5;241m2\u001b[39m, \u001b[38;5;241m3\u001b[39m]), (\u001b[38;5;124m'\u001b[39m\u001b[38;5;124mint\u001b[39m\u001b[38;5;124m'\u001b[39m, \u001b[38;5;241m4\u001b[39m), (\u001b[38;5;124m'\u001b[39m\u001b[38;5;124mstr\u001b[39m\u001b[38;5;124m'\u001b[39m, \u001b[38;5;124m'\u001b[39m\u001b[38;5;124mhello\u001b[39m\u001b[38;5;124m'\u001b[39m)]\n\u001b[1;32m----> 4\u001b[0m \u001b[38;5;28mprint\u001b[39m(solution(test1))\n",
      "Cell \u001b[1;32mIn[9], line 6\u001b[0m, in \u001b[0;36msolution\u001b[1;34m(data)\u001b[0m\n\u001b[0;32m      4\u001b[0m type_list \u001b[38;5;241m=\u001b[39m []\n\u001b[0;32m      5\u001b[0m \u001b[38;5;28;01mfor\u001b[39;00m i \u001b[38;5;129;01min\u001b[39;00m data : \n\u001b[1;32m----> 6\u001b[0m     \u001b[38;5;28;01mif\u001b[39;00m \u001b[38;5;129;01mnot\u001b[39;00m \u001b[38;5;28misinstance\u001b[39m(i[\u001b[38;5;241m0\u001b[39m], \u001b[38;5;28mtype\u001b[39m(i[\u001b[38;5;241m1\u001b[39m])\u001b[38;5;241m.\u001b[39m\u001b[38;5;18m__name__\u001b[39m) :\n\u001b[0;32m      7\u001b[0m         \u001b[38;5;28;01mreturn\u001b[39;00m \u001b[38;5;28;01mFalse\u001b[39;00m\n\u001b[0;32m      8\u001b[0m \u001b[38;5;28;01mreturn\u001b[39;00m \u001b[38;5;28;01mTrue\u001b[39;00m\n",
      "\u001b[1;31mTypeError\u001b[0m: isinstance() arg 2 must be a type, a tuple of types, or a union"
     ]
    }
   ],
   "source": [
    "#test \n",
    "test1 = [('list', [1, 2, 3]), ('int', 4), ('str', 'hello')]\n",
    "\n",
    "print(solution(test1))\n",
    "\n"
   ]
  }
 ],
 "metadata": {
  "kernelspec": {
   "display_name": "base",
   "language": "python",
   "name": "python3"
  },
  "language_info": {
   "codemirror_mode": {
    "name": "ipython",
    "version": 3
   },
   "file_extension": ".py",
   "mimetype": "text/x-python",
   "name": "python",
   "nbconvert_exporter": "python",
   "pygments_lexer": "ipython3",
   "version": "3.11.7"
  }
 },
 "nbformat": 4,
 "nbformat_minor": 2
}
