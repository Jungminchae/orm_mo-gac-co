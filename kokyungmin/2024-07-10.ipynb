{
 "cells": [
  {
   "cell_type": "markdown",
   "metadata": {},
   "source": [
    "https://100.pyalgo.co.kr/?page=15#\n",
    "15번 문제"
   ]
  },
  {
   "cell_type": "code",
   "execution_count": null,
   "metadata": {},
   "outputs": [],
   "source": [
    "# 1. 12시간제를 분(minute)으로 전환한다.\n",
    "# 2. 분(minute)과 12시간제를 튜플로 묶는다.\n",
    "# 3. 분(minute)을 기준으로 정렬한다.\n",
    "# 4. 12시간제만 리턴한다.\n",
    "\n",
    "def solution(times):\n",
    "    def convert_to_minute(time_str):\n",
    "        hour, minute = map(int, time_str[:-3].split(':'))\n",
    "        period = time_str[-2:]\n",
    "        \n",
    "        if period == 'PM' and hour != 12:\n",
    "            hour += 12\n",
    "        elif period == 'AM' and hour == 12:\n",
    "            hour = 0\n",
    "        \n",
    "        return hour*60 + minute\n",
    "    \n",
    "    converted_times = [(t,convert_to_minute(t)) for t in times]\n",
    "    sorted_times = sorted(converted_times, key= lambda x : x[1])\n",
    "    return [t[0] for t in sorted_times]\n",
    "            "
   ]
  }
 ],
 "metadata": {
  "language_info": {
   "name": "python"
  }
 },
 "nbformat": 4,
 "nbformat_minor": 2
}
